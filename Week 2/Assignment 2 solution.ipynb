{
 "cells": [
  {
   "cell_type": "code",
   "execution_count": 8,
   "metadata": {},
   "outputs": [],
   "source": [
    "import numpy as np\n",
    "import matplotlib.pyplot as plt"
   ]
  },
  {
   "cell_type": "code",
   "execution_count": 9,
   "metadata": {},
   "outputs": [],
   "source": [
    "class Arm:\n",
    "    def __init__(self, p):\n",
    "        self.p = p\n",
    "    \n",
    "    def pull(self):\n",
    "        return np.random.binomial(1, self.p)\n",
    "\n",
    "class MultiBandit:\n",
    "    def __init__(self, probs = [0.1, 0.2, 0.7, 0.5]):\n",
    "        self.__arms = [Arm(p) for p in probs]\n",
    "        self.__regret = 0\n",
    "        self.__maxp = max(probs)\n",
    "\n",
    "    def num_arms(self):\n",
    "        return len(self.__arms)\n",
    "\n",
    "    def pull(self, arm_num):\n",
    "        reward = self.__arms[arm_num].pull()\n",
    "        self.__regret += self.__maxp-self.__arms[arm_num].p\n",
    "        return reward\n",
    "    \n",
    "    def regret(self):\n",
    "        return self.__regret"
   ]
  },
  {
   "cell_type": "code",
   "execution_count": 10,
   "metadata": {},
   "outputs": [],
   "source": [
    "class EpsilonGreedyAlgorithm:\n",
    "    def __init__(self, num_arms, horizon, epsilon):\n",
    "        self.num_arms = num_arms\n",
    "        self.horizon = horizon\n",
    "        self.epsilon = epsilon\n",
    "        self.timestep = 0\n",
    "        self.arm_pulls = np.zeros(num_arms)\n",
    "        self.arm_rewards = np.zeros(num_arms)\n",
    "        self.regrets = np.zeros(horizon)\n",
    "\n",
    "    def give_best_arm(self):\n",
    "        return np.argmax(self.arm_rewards / (self.arm_pulls + 1e-6))\n",
    "\n",
    "    def select_arm(self):\n",
    "        if np.random.rand() < self.epsilon:\n",
    "            # Exploration: Randomly choose an arm with probability epsilon\n",
    "            return np.random.choice(self.num_arms)\n",
    "        else:\n",
    "            # Exploitation: Choose the arm with the maximum empirical mean\n",
    "            return np.argmax(self.arm_rewards / (self.arm_pulls + 1e-6))\n",
    "\n",
    "    def run_algorithm(self, bandit):\n",
    "        for _ in range(self.horizon):\n",
    "            arm_to_pull = self.select_arm()\n",
    "            reward = bandit.pull(arm_to_pull)\n",
    "            self.arm_pulls[arm_to_pull] += 1\n",
    "            self.arm_rewards[arm_to_pull] += reward\n",
    "            self.timestep += 1\n",
    "            self.regrets[_] = bandit.regret()\n",
    "    \n",
    "    def plot(self):\n",
    "        plt.plot(self.regrets)\n",
    "        plt.xlabel(\"Horizon\")\n",
    "        plt.ylabel(\"Regret\")\n",
    "        plt.show()"
   ]
  },
  {
   "cell_type": "code",
   "execution_count": 11,
   "metadata": {},
   "outputs": [],
   "source": [
    "class UCBAlgorithm:\n",
    "    def __init__(self, num_arms, horizon):\n",
    "        self.num_arms = num_arms\n",
    "        self.horizon = horizon\n",
    "        self.timestep = 0\n",
    "        self.arm_pulls = np.zeros(num_arms)\n",
    "        self.arm_rewards = np.zeros(num_arms)\n",
    "        self.ucb_values = np.zeros(num_arms)\n",
    "        self.regrets = np.zeros(horizon)\n",
    "\n",
    "    def select_arm(self):\n",
    "        if self.timestep < self.num_arms:\n",
    "            # Select each arm at least once in the beginning\n",
    "            return self.timestep\n",
    "        else:\n",
    "            # Select arm with maximum UCB value\n",
    "            return np.argmax(self.ucb_values)\n",
    "    \n",
    "    def give_best_arm(self):\n",
    "        return np.argmax(self.arm_rewards / (self.arm_pulls + 1e-6))\n",
    "\n",
    "    def update_ucb_values(self):\n",
    "        for arm in range(self.num_arms):\n",
    "            if self.arm_pulls[arm] > 0:\n",
    "                mean_reward = self.arm_rewards[arm] / self.arm_pulls[arm]\n",
    "                exploration_term = np.sqrt((2 * np.log(self.timestep)) / self.arm_pulls[arm])\n",
    "                self.ucb_values[arm] = mean_reward + exploration_term\n",
    "            else:\n",
    "                # Initialize with high value for unexplored arms\n",
    "                self.ucb_values[arm] = float('inf')\n",
    "\n",
    "    def run_algorithm(self, bandit):\n",
    "        for _ in range(self.horizon):\n",
    "            arm_to_pull = self.select_arm()\n",
    "            reward = bandit.pull(arm_to_pull)\n",
    "            self.arm_pulls[arm_to_pull] += 1\n",
    "            self.arm_rewards[arm_to_pull] += reward\n",
    "            self.timestep += 1\n",
    "            self.update_ucb_values()\n",
    "            self.regrets[_] = bandit.regret()\n",
    "    \n",
    "    def plot(self):\n",
    "        plt.plot(self.regrets)\n",
    "        plt.xlabel(\"Horizon\")\n",
    "        plt.ylabel(\"Regret\")\n",
    "        plt.show()"
   ]
  },
  {
   "cell_type": "code",
   "execution_count": 12,
   "metadata": {},
   "outputs": [],
   "source": [
    "class ThompsonSamplingAlgorithm:\n",
    "    def __init__(self, num_arms, horizon):\n",
    "        self.num_arms = num_arms\n",
    "        self.horizon = horizon\n",
    "        self.timestep = 0\n",
    "        self.arm_pulls = np.zeros(num_arms)\n",
    "        self.arm_rewards = np.zeros(num_arms)\n",
    "        self.regrets = np.zeros(horizon)\n",
    "\n",
    "    def give_best_arm(self):\n",
    "        return np.argmax(self.arm_rewards / (self.arm_pulls + 1e-6))\n",
    "\n",
    "    def select_arm(self):\n",
    "        # Sample from the posterior distribution for each arm (Beta distribution for Bernoulli rewards)\n",
    "        sampled_means = np.random.beta(self.arm_rewards + 1, self.arm_pulls - self.arm_rewards + 1)\n",
    "        # Choose the arm with the maximum sampled mean\n",
    "        return np.argmax(sampled_means)\n",
    "\n",
    "    def run_algorithm(self, bandit):\n",
    "        for _ in range(self.horizon):\n",
    "            arm_to_pull = self.select_arm()\n",
    "            reward = bandit.pull(arm_to_pull)\n",
    "            self.arm_pulls[arm_to_pull] += 1\n",
    "            self.arm_rewards[arm_to_pull] += reward\n",
    "            self.timestep += 1\n",
    "            self.regrets[_] = bandit.regret()\n",
    "    \n",
    "    def plot(self):\n",
    "        plt.plot(self.regrets)\n",
    "        plt.xlabel(\"Horizon\")\n",
    "        plt.ylabel(\"Regret\")\n",
    "        plt.show()"
   ]
  },
  {
   "cell_type": "code",
   "execution_count": 13,
   "metadata": {},
   "outputs": [
    {
     "name": "stdout",
     "output_type": "stream",
     "text": [
      "Total Regret after 10000 timesteps: 665.9000000000094 with best arm 2\n"
     ]
    },
    {
     "data": {
      "image/png": "[encoded data removed]",
      "text/plain": [
       "<Figure size 432x288 with 1 Axes>"
      ]
     },
     "metadata": {
      "needs_background": "light"
     },
     "output_type": "display_data"
    }
   ],
   "source": [
    "# Define a MultiBandit instance\n",
    "bandit = MultiBandit()\n",
    "\n",
    "# Set the horizon size\n",
    "H = 10000\n",
    "\n",
    "# Create multiple Algorithm instance\n",
    "\n",
    "algorithm = EpsilonGreedyAlgorithm(num_arms=bandit.num_arms(), horizon=H, epsilon=0.2)\n",
    "\n",
    "\n",
    "# Run the algorithm\n",
    "algorithm.run_algorithm(bandit)\n",
    "\n",
    "# Display total regret\n",
    "print(f\"Total Regret after {H} timesteps: {bandit.regret()} with best arm {algorithm.give_best_arm()}\")\n",
    "algorithm.plot()"
   ]
  },
  {
   "cell_type": "code",
   "execution_count": 14,
   "metadata": {},
   "outputs": [
    {
     "name": "stdout",
     "output_type": "stream",
     "text": [
      "Total Regret after 10000 timesteps: 98.70000000000041 with best arm 2\n"
     ]
    },
    {
     "data": {
      "image/png": "[encoded data removed]",
      "text/plain": [
       "<Figure size 432x288 with 1 Axes>"
      ]
     },
     "metadata": {
      "needs_background": "light"
     },
     "output_type": "display_data"
    }
   ],
   "source": [
    "# Define a MultiBandit instance\n",
    "bandit = MultiBandit()\n",
    "\n",
    "# Set the horizon size\n",
    "H = 10000\n",
    "\n",
    "# Create multiple Algorithm instance\n",
    "\n",
    "algorithm = UCBAlgorithm(num_arms=bandit.num_arms(), horizon=H)\n",
    "\n",
    "# Run the algorithm\n",
    "algorithm.run_algorithm(bandit)\n",
    "\n",
    "# Display total regret\n",
    "print(f\"Total Regret after {H} timesteps: {bandit.regret()} with best arm {algorithm.give_best_arm()}\")\n",
    "algorithm.plot()"
   ]
  },
  {
   "cell_type": "code",
   "execution_count": 15,
   "metadata": {},
   "outputs": [
    {
     "name": "stdout",
     "output_type": "stream",
     "text": [
      "Total Regret after 10000 timesteps: 18.69999999999998 with best arm 2\n"
     ]
    },
    {
     "data": {
      "image/png": "[encoded data removed]",
      "text/plain": [
       "<Figure size 432x288 with 1 Axes>"
      ]
     },
     "metadata": {
      "needs_background": "light"
     },
     "output_type": "display_data"
    }
   ],
   "source": [
    "# Define a MultiBandit instance\n",
    "bandit = MultiBandit()\n",
    "\n",
    "# Set the horizon size\n",
    "H = 10000\n",
    "\n",
    "# Create multiple Algorithm instance\n",
    "\n",
    "algorithm = ThompsonSamplingAlgorithm(num_arms=bandit.num_arms(), horizon=H)\n",
    "\n",
    "# Run the algorithm\n",
    "algorithm.run_algorithm(bandit)\n",
    "\n",
    "# Display total regret\n",
    "print(f\"Total Regret after {H} timesteps: {bandit.regret()} with best arm {algorithm.give_best_arm()}\")\n",
    "algorithm.plot()"
   ]
  }
 ],
 "metadata": {
  "kernelspec": {
   "display_name": "Python 3",
   "language": "python",
   "name": "python3"
  },
  "language_info": {
   "codemirror_mode": {
    "name": "ipython",
    "version": 3
   },
   "file_extension": ".py",
   "mimetype": "text/x-python",
   "name": "python",
   "nbconvert_exporter": "python",
   "pygments_lexer": "ipython3",
   "version": "3.10.1"
  }
 },
 "nbformat": 4,
 "nbformat_minor": 2
}
