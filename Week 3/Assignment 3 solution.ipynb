{
 "cells": [
  {
   "cell_type": "code",
   "execution_count": 30,
   "metadata": {},
   "outputs": [],
   "source": [
    "import random ,argparse, sys\n",
    "parser = argparse.ArgumentParser()\n",
    "import numpy as np"
   ]
  },
  {
   "cell_type": "code",
   "execution_count": 31,
   "metadata": {},
   "outputs": [
    {
     "name": "stdout",
     "output_type": "stream",
     "text": [
      "42355\n",
      "0.0 0\n",
      "530.2198198940359 3\n",
      "530.513671332707 4\n",
      "504.79864465483024 2\n",
      "472.94806296920024 1\n",
      "0.0 0\n",
      "526.9529899925243 2\n",
      "518.4643115613788 2\n",
      "354.45767841147875 4\n",
      "529.2921428030874 0\n"
     ]
    }
   ],
   "source": [
    "class MDPValueIteration:\n",
    "    def __init__(self, file_path, epsilon = 1e-9):\n",
    "        with open(file_path, 'r') as file:\n",
    "            lines = file.readlines()\n",
    "        lines = [line.strip().split() for line in lines]\n",
    "        self.extract_mdp(lines)\n",
    "        self.epsilon = epsilon\n",
    "        self.values_old = np.zeros(self.num_of_states)\n",
    "        self.values_new = np.ones(self.num_of_states)\n",
    "        self.actions_old = np.zeros(self.num_of_states)\n",
    "        self.actions_new = np.zeros(self.num_of_states)\n",
    "    \n",
    "    def extract_mdp(self, lines):\n",
    "        self.num_of_states = int(lines[0][1])\n",
    "        self.num_of_actions = int(lines[1][1])\n",
    "        self.end_states = []\n",
    "        self.type = \"None\"\n",
    "        self.gamma = 1.0\n",
    "        self.transitions = np.zeros((self.num_of_states, self.num_of_actions, self.num_of_states))\n",
    "        self.reward = np.zeros((self.num_of_states, self.num_of_actions, self.num_of_states)) \n",
    "        for i in range(len(lines)):\n",
    "            if(lines[i][0]==\"end\"):\n",
    "                for j in range(1,len(lines[i])):\n",
    "                    self.end_states.append(int(lines[i][j]))\n",
    "\n",
    "            elif(lines[i][0]==\"transition\"):\n",
    "                self.transitions[int(lines[i][1])][int(lines[i][2])][int(lines[i][3])] = float(lines[i][5])\n",
    "                self.reward[int(lines[i][1])][int(lines[i][2])][int(lines[i][3])] = float(lines[i][4])\n",
    "\n",
    "            elif(lines[i][0]==\"mdptype\"):\n",
    "                self.type = lines[i][1]\n",
    "                \n",
    "            elif(lines[i][0]==\"discount\"):\n",
    "                self.gamma = float(lines[i][1])\n",
    "    \n",
    "    def value_iterate(self):\n",
    "        i = 0\n",
    "        while(True):\n",
    "            Q_value = np.sum(self.transitions * (self.reward + self.gamma * self.values_old), axis=2)\n",
    "            self.actions_new = np.argmax(Q_value, axis=1)\n",
    "            self.values_new = np.max(Q_value, axis=1)\n",
    "\n",
    "            for end_state in self.end_states:\n",
    "                if(end_state!=-1):\n",
    "                    self.values_new[end_state]= 0\n",
    "\n",
    "            if(np.all(np.abs(self.values_new - self.values_old) < self.epsilon)):\n",
    "                break\n",
    "\n",
    "            self.values_old = self.values_new.copy()\n",
    "            self.actions_old = self.actions_new.copy()\n",
    "            i+=1\n",
    "        print(i)\n",
    "            \n",
    "\n",
    "        value = self.values_old\n",
    "        action = self.actions_old\n",
    "\n",
    "        return value, action\n",
    "\n",
    "\n",
    "mdp = MDPValueIteration(\"./data/episodic-mdp-10-5.txt\")\n",
    "value, action = mdp.value_iterate()\n",
    "\n",
    "for i in range(len(value)):\n",
    "    print(str(value[i]) + \" \"+ str(action[i]))"
   ]
  }
 ],
 "metadata": {
  "kernelspec": {
   "display_name": "Python 3",
   "language": "python",
   "name": "python3"
  },
  "language_info": {
   "codemirror_mode": {
    "name": "ipython",
    "version": 3
   },
   "file_extension": ".py",
   "mimetype": "text/x-python",
   "name": "python",
   "nbconvert_exporter": "python",
   "pygments_lexer": "ipython3",
   "version": "3.10.1"
  }
 },
 "nbformat": 4,
 "nbformat_minor": 2
}
